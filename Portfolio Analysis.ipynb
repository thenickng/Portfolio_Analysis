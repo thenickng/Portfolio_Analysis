{
 "cells": [
  {
   "cell_type": "code",
   "execution_count": 4,
   "metadata": {},
   "outputs": [],
   "source": [
    "import yfinance as yf\n",
    "import pandas as pd\n",
    "import matplotlib.pyplot as plt\n",
    "import pandas_datareader as pdr\n",
    "import numpy as np\n",
    "import datetime\n",
    "import math\n",
    "import warnings"
   ]
  },
  {
   "cell_type": "markdown",
   "metadata": {},
   "source": [
    "## Monthly Prices and Returns"
   ]
  },
  {
   "cell_type": "code",
   "execution_count": 240,
   "metadata": {},
   "outputs": [],
   "source": [
    "tickers = ['COST', 'NVDA', 'NKE', 'F']\n",
    "weights = [0.25, 0.25, 0.25, 0.25]\n",
    "stats = pd.DataFrame()\n",
    "port_stock_stat = {'tickers': [],'returns': []}\n",
    "port_stat = []"
   ]
  },
  {
   "cell_type": "code",
   "execution_count": 248,
   "metadata": {},
   "outputs": [],
   "source": [
    "def monthly_close_prices(ticker):\n",
    "    stock_prices = yf.download(ticker, start=\"2000-01-01\", end=pd.to_datetime('today'))\n",
    "    m_close_prices = stock_prices[['Close']].resample('M').last()\n",
    "    return m_close_prices\n",
    "\n",
    "def monthly_return(ticker):    \n",
    "    m_close_prices = monthly_close_prices(ticker)\n",
    "    m_close_prices['Return'] = m_close_prices['Close'].pct_change()\n",
    "    return m_close_prices\n",
    "\n",
    "def only_return(ticker):\n",
    "    global port_stock_stat\n",
    "    m_returns_series = monthly_return(ticker)\n",
    "    port_stock_stat['tickers'].append(ticker)\n",
    "    port_stock_stat['returns'].append(m_returns_series['Return'].dropna().values.flatten())\n"
   ]
  },
  {
   "cell_type": "markdown",
   "metadata": {},
   "source": [
    "# Individual Stock Statsitics"
   ]
  },
  {
   "cell_type": "code",
   "execution_count": 249,
   "metadata": {},
   "outputs": [],
   "source": [
    "def stock_stats():\n",
    "    global stats\n",
    "    for ticker in tickers:\n",
    "        if not any(ticker in element for element in port_stock_stat['tickers']):\n",
    "            only_return(ticker)\n",
    "            index = port_stock_stat['tickers'].index(ticker)\n",
    "            returns = port_stock_stat['returns'][index]\n",
    "            row = pd.DataFrame({\n",
    "                'Ticker': [ticker],\n",
    "                'Expected_Return': [returns.mean()],\n",
    "                'Variance': [returns.var()],\n",
    "                'Standard_Deviation': [returns.std()]\n",
    "            })\n",
    "            stats = pd.concat([stats, row], ignore_index=True)\n",
    "\n",
    "    return stats\n",
    "\n",
    "\n"
   ]
  },
  {
   "cell_type": "markdown",
   "metadata": {},
   "source": [
    "# Arrays: Returns, Covariance, Correlation, Weights"
   ]
  },
  {
   "cell_type": "code",
   "execution_count": 251,
   "metadata": {},
   "outputs": [],
   "source": [
    "def mu_matrix():\n",
    "    mu_mat = stats['Expected_Return']\n",
    "    return mu_mat\n",
    "\n",
    "def cov_matrix():\n",
    "    cov_mat = pd.DataFrame(index=tickers, columns=tickers)\n",
    "\n",
    "    for row_tick in tickers:\n",
    "        for col_tick in tickers:\n",
    "            returns_y = pd.Series(port_stock_stat['returns'][port_stock_stat['tickers'].index(row_tick)])\n",
    "            returns_x = pd.Series(port_stock_stat['returns'][port_stock_stat['tickers'].index(col_tick)])\n",
    "            cov_xy = returns_y.cov(returns_x)\n",
    "            cov_mat.loc[row_tick, col_tick] = cov_xy\n",
    "    \n",
    "    return cov_mat\n",
    "\n",
    "def cor_matrix():\n",
    "    cor_mat = pd.DataFrame(index = tickers, columns = tickers)\n",
    "\n",
    "    for row_tick in tickers:\n",
    "        for col_tick in tickers:\n",
    "            returns_y = pd.Series(port_stock_stat['returns'][port_stock_stat['tickers'].index(row_tick)])\n",
    "            returns_x = pd.Series(port_stock_stat['returns'][port_stock_stat['tickers'].index(col_tick)])\n",
    "            cor_xy = returns_y.corr(returns_x)\n",
    "            cor_mat.loc[row_tick, col_tick] = cor_xy\n",
    "\n",
    "    return cor_mat\n",
    "\n",
    "def weights_matrix():\n",
    "    global weights\n",
    "    while (sum(weights) != 1.0):\n",
    "        print(\"Please Re-Enter weights that add up to 1\")\n",
    "    return(weights)\n"
   ]
  },
  {
   "cell_type": "markdown",
   "metadata": {},
   "source": [
    "# Portfolio Stats: Return, SD, Variance"
   ]
  },
  {
   "cell_type": "code",
   "execution_count": 288,
   "metadata": {},
   "outputs": [],
   "source": [
    "def portfolio_stats(current_weights = None):\n",
    "    global port_stats\n",
    "    stock_stats()\n",
    "    if current_weights is None or current_weights.any() is None:\n",
    "        current_weights = weights\n",
    "    mu_mat = mu_matrix()\n",
    "    cov_mat = cov_matrix()\n",
    "\n",
    "    port_e_return = np.dot(np.transpose(current_weights), mu_mat.values)\n",
    "    port_var = np.dot(np.dot(np.transpose(current_weights),cov_mat), current_weights)\n",
    "    port_sd = math.sqrt(port_var)\n",
    "    port_stats = [port_e_return, port_sd, port_var]\n",
    "    return port_stats\n",
    "\n",
    "def print_portfolio_stats(current_weights = None):\n",
    "\n",
    "    current_port_stats = portfolio_stats(current_weights)\n",
    "    print('Expected Portfolio Return:', round(current_port_stats[0],4))\n",
    "    print('Portfolio Return Standard Deviation:', round(current_port_stats[1], 4))\n",
    "    print('Portfolio Return Variance:', round(current_port_stats[2], 4))"
   ]
  },
  {
   "cell_type": "markdown",
   "metadata": {},
   "source": [
    "# Minimum Risk Calculation"
   ]
  },
  {
   "cell_type": "code",
   "execution_count": 262,
   "metadata": {},
   "outputs": [],
   "source": [
    "def min_risk_portfolio():\n",
    "    cov_mat = cov_matrix()\n",
    "    top_mat = np.column_stack([2 * cov_mat, np.ones(len(tickers))])\n",
    "    bot_vec = np.concatenate([np.ones(len(tickers)), [0]])\n",
    "    \n",
    "    Am_mat = np.vstack((top_mat, bot_vec))\n",
    "    b_vec = np.concatenate([np.zeros(len(tickers)), [1]])\n",
    "    Am_mat = Am_mat.astype(np.float64)\n",
    "    b_vec = b_vec.astype(np.float64)\n",
    "    sol_mat = np.linalg.solve(Am_mat, b_vec)\n",
    "    return pd.DataFrame({'Ticker': tickers, 'Weight': sol_mat[:-1]})\n"
   ]
  },
  {
   "cell_type": "markdown",
   "metadata": {},
   "source": [
    "# Risk Return Scatter Plot"
   ]
  },
  {
   "cell_type": "code",
   "execution_count": 286,
   "metadata": {},
   "outputs": [],
   "source": [
    "def rr_plot():\n",
    "    all_stats = stock_stats()\n",
    "    # Scatter plot\n",
    "    plt.scatter(all_stats['Standard_Deviation'], all_stats['Expected_Return'], label=tickers)\n",
    "\n",
    "    # Labeling the points with ticker names\n",
    "    for i, ticker in enumerate(tickers):\n",
    "        plt.annotate(ticker, (all_stats.iloc[i]['Standard_Deviation'], all_stats.iloc[i]['Expected_Return']))\n",
    "\n",
    "    portfolio_stats()\n",
    "    plt.scatter(port_stats[1], port_stats[0], color = 'red', label = 'Your Portfolio')\n",
    "    plt.annotate('Your Portfolio', (port_stats[1], port_stats[0]))\n",
    "\n",
    "    min_risk_port = min_risk_portfolio()\n",
    "    min_risk_port_stats = portfolio_stats(min_risk_port['Weight'])\n",
    "\n",
    "    plt.scatter(min_risk_port_stats[1], min_risk_port_stats[0], color = 'green', label = 'Min Risk')\n",
    "    plt.annotate('Min Risk', (min_risk_port_stats[1], min_risk_port_stats[0]))\n",
    "\n",
    "    # Add labels and title\n",
    "    plt.xlabel('Standard Deviation')\n",
    "    plt.ylabel('Expected Return')\n",
    "    plt.title('Risk-Return Scatter Plot')\n",
    "\n",
    "    # Show legend\n",
    "    plt.legend()\n",
    "\n",
    "    # Show the plot\n",
    "    plt.show()"
   ]
  },
  {
   "cell_type": "code",
   "execution_count": 296,
   "metadata": {},
   "outputs": [
    {
     "data": {
      "image/png": "[encoded data removed]",
      "text/plain": [
       "<Figure size 640x480 with 1 Axes>"
      ]
     },
     "metadata": {},
     "output_type": "display_data"
    },
    {
     "name": "stdout",
     "output_type": "stream",
     "text": [
      "Your Portfolio:\n",
      "Expected Portfolio Return: 0.0169\n",
      "Portfolio Return Standard Deviation: 0.0784\n",
      "Portfolio Return Variance: 0.0062\n",
      "\n",
      "Min Risk Portfolio:\n",
      "Expected Portfolio Return: 0.0122\n",
      "Portfolio Return Standard Deviation: 0.0581\n",
      "Portfolio Return Variance: 0.0034\n"
     ]
    }
   ],
   "source": [
    "stock_stats()\n",
    "rr_plot()\n",
    "min_risk_port = min_risk_portfolio()\n",
    "print('Your Portfolio:')\n",
    "print_portfolio_stats()\n",
    "print('\\nMin Risk Portfolio:')\n",
    "print_portfolio_stats(min_risk_port['Weight'])\n"
   ]
  }
 ],
 "metadata": {
  "kernelspec": {
   "display_name": "Python 3",
   "language": "python",
   "name": "python3"
  },
  "language_info": {
   "codemirror_mode": {
    "name": "ipython",
    "version": 3
   },
   "file_extension": ".py",
   "mimetype": "text/x-python",
   "name": "python",
   "nbconvert_exporter": "python",
   "pygments_lexer": "ipython3",
   "version": "3.11.7"
  }
 },
 "nbformat": 4,
 "nbformat_minor": 2
}
