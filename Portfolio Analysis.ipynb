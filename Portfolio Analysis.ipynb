{
 "cells": [
  {
   "cell_type": "code",
   "execution_count": 262,
   "metadata": {},
   "outputs": [],
   "source": [
    "import yfinance as yf\n",
    "import pandas as pd\n",
    "import matplotlib.pyplot as plt\n",
    "import pandas_datareader as pdr\n",
    "import numpy as np\n",
    "import datetime\n",
    "import math\n",
    "import warnings"
   ]
  },
  {
   "cell_type": "markdown",
   "metadata": {},
   "source": [
    "## Monthly Prices and Returns"
   ]
  },
  {
   "cell_type": "code",
   "execution_count": 534,
   "metadata": {},
   "outputs": [],
   "source": [
    "def monthly_close_prices(ticker):\n",
    "    stock_prices = yf.download(ticker, start=\"2000-01-01\", end=pd.to_datetime('today'))\n",
    "    m_close_prices = stock_prices[['Close']].resample('M').last()\n",
    "    return m_close_prices\n",
    "\n",
    "def monthly_return(ticker):    \n",
    "    m_close_prices = monthly_close_prices(ticker)\n",
    "    m_close_prices['Return'] = m_close_prices['Close'].pct_change()\n",
    "    return m_close_prices\n",
    "\n",
    "def only_return(ticker):\n",
    "    global port_stock_stat\n",
    "    m_returns_series = monthly_return(ticker)\n",
    "    port_stock_stat['tickers'].append(ticker)\n",
    "    port_stock_stat['returns'].append(m_returns_series['Return'].dropna().values.flatten())\n"
   ]
  },
  {
   "cell_type": "markdown",
   "metadata": {},
   "source": [
    "# Individual Stock Statsitics"
   ]
  },
  {
   "cell_type": "code",
   "execution_count": 535,
   "metadata": {},
   "outputs": [],
   "source": [
    "def stock_stats():\n",
    "    global stats\n",
    "    for ticker in tickers:\n",
    "        if not any(ticker in element for element in port_stock_stat['tickers']):\n",
    "            only_return(ticker)\n",
    "            index = port_stock_stat['tickers'].index(ticker)\n",
    "            returns = port_stock_stat['returns'][index]\n",
    "            row = pd.DataFrame({\n",
    "                'Ticker': [ticker],\n",
    "                'Expected_Return': [returns.mean()],\n",
    "                'Variance': [returns.var()],\n",
    "                'Standard_Deviation': [returns.std()]\n",
    "            })\n",
    "            stats = pd.concat([stats, row], ignore_index=True)\n",
    "    return stats\n",
    "\n",
    "\n"
   ]
  },
  {
   "cell_type": "markdown",
   "metadata": {},
   "source": [
    "# Arrays: Returns, Covariance, Correlation, Weights"
   ]
  },
  {
   "cell_type": "code",
   "execution_count": 536,
   "metadata": {},
   "outputs": [],
   "source": [
    "def mu_matrix():\n",
    "    mu_mat = stats['Expected_Return']\n",
    "    return mu_mat\n",
    "\n",
    "def cov_matrix():\n",
    "    cov_mat = pd.DataFrame(index=tickers, columns=tickers)\n",
    "\n",
    "    for row_tick in tickers:\n",
    "        for col_tick in tickers:\n",
    "            returns_y = pd.Series(port_stock_stat['returns'][port_stock_stat['tickers'].index(row_tick)])\n",
    "            returns_x = pd.Series(port_stock_stat['returns'][port_stock_stat['tickers'].index(col_tick)])\n",
    "            cov_xy = returns_y.cov(returns_x)\n",
    "            cov_mat.loc[row_tick, col_tick] = cov_xy\n",
    "    \n",
    "    return cov_mat\n",
    "\n",
    "def cor_matrix():\n",
    "    cor_mat = pd.DataFrame(index = tickers, columns = tickers)\n",
    "\n",
    "    for row_tick in tickers:\n",
    "        for col_tick in tickers:\n",
    "            returns_y = pd.Series(port_stock_stat['returns'][port_stock_stat['tickers'].index(row_tick)])\n",
    "            returns_x = pd.Series(port_stock_stat['returns'][port_stock_stat['tickers'].index(col_tick)])\n",
    "            cor_xy = returns_y.corr(returns_x)\n",
    "            cor_mat.loc[row_tick, col_tick] = cor_xy\n",
    "\n",
    "    return cor_mat\n",
    "\n",
    "def weights_matrix():\n",
    "    global weights\n",
    "    while (sum(weights) != 1.0):\n",
    "        print(\"Please Re-Enter weights that add up to 1\")\n",
    "    return(weights)\n"
   ]
  },
  {
   "cell_type": "markdown",
   "metadata": {},
   "source": [
    "# Portfolio Stats: Return, SD, Variance"
   ]
  },
  {
   "cell_type": "code",
   "execution_count": 537,
   "metadata": {},
   "outputs": [],
   "source": [
    "def portfolio_stats(current_weights = None):\n",
    "    global port_stats\n",
    "    stock_stats()\n",
    "    if current_weights is None or current_weights.any() is None:\n",
    "        current_weights = weights\n",
    "    mu_mat = mu_matrix()\n",
    "    cov_mat = cov_matrix()\n",
    "\n",
    "    port_e_return = np.dot(np.transpose(current_weights), mu_mat.values)\n",
    "    port_var = np.dot(np.dot(np.transpose(current_weights),cov_mat), current_weights)\n",
    "    port_sd = math.sqrt(port_var)\n",
    "    port_stats = [port_e_return, port_sd, port_var]\n",
    "    return port_stats\n",
    "\n",
    "def print_portfolio_stats(current_weights = None):\n",
    "\n",
    "    current_port_stats = portfolio_stats(current_weights)\n",
    "    print('Expected Portfolio Return:', round(current_port_stats[0],4))\n",
    "    print('Portfolio Return Standard Deviation:', round(current_port_stats[1], 4))\n",
    "    print('Portfolio Return Variance:', round(current_port_stats[2], 4))"
   ]
  },
  {
   "cell_type": "markdown",
   "metadata": {},
   "source": [
    "# Minimum Risk Calculation"
   ]
  },
  {
   "cell_type": "code",
   "execution_count": 538,
   "metadata": {},
   "outputs": [],
   "source": [
    "def min_risk_portfolio():\n",
    "    cov_mat = cov_matrix()\n",
    "    top_mat = np.column_stack([2 * cov_mat, np.ones(len(tickers))])\n",
    "    bot_vec = np.concatenate([np.ones(len(tickers)), [0]])\n",
    "    \n",
    "    Am_mat = np.vstack((top_mat, bot_vec))\n",
    "    b_vec = np.concatenate([np.zeros(len(tickers)), [1]])\n",
    "    Am_mat = Am_mat.astype(np.float64)\n",
    "    b_vec = b_vec.astype(np.float64)\n",
    "    sol_mat = np.linalg.solve(Am_mat, b_vec)\n",
    "    return pd.DataFrame({'Ticker': tickers, 'Weight': sol_mat[:-1]})\n"
   ]
  },
  {
   "cell_type": "markdown",
   "metadata": {},
   "source": [
    "# Same Expected Returns Calculation"
   ]
  },
  {
   "cell_type": "code",
   "execution_count": 539,
   "metadata": {},
   "outputs": [],
   "source": [
    "def same_return_portfolio(ticker):\n",
    "    cov_mat = cov_matrix()  \n",
    "    mu_mat = mu_matrix()\n",
    "    ticker_return = pd.to_numeric(stats[stats['Ticker'] == ticker]['Expected_Return'].values, errors='coerce')\n",
    "\n",
    "    top_mat = np.column_stack([2*cov_mat, mu_mat, np.ones(len(tickers))])\n",
    "    mid_vec = np.append(stats['Expected_Return'].values, [0, 0])\n",
    "    bot_vec = np.concatenate([np.ones(len(tickers)), [0, 0]])\n",
    "\n",
    "    Ax_mat = np.row_stack((top_mat, mid_vec, bot_vec)).astype(float)\n",
    "    ticker_vec = np.concatenate([np.zeros(len(tickers)), ticker_return, [0]])\n",
    "\n",
    "\n",
    "    sol_mat = np.linalg.solve(Ax_mat, ticker_vec)\n",
    "    return pd.DataFrame({'Ticker': tickers, 'Weight': sol_mat[:len(mu_mat)]})\n"
   ]
  },
  {
   "cell_type": "markdown",
   "metadata": {},
   "source": [
    "# Efficient Portfolio Calculation"
   ]
  },
  {
   "cell_type": "code",
   "execution_count": 568,
   "metadata": {},
   "outputs": [],
   "source": [
    "def efficient_portfolio():\n",
    "    cov_mat = cov_matrix().astype(float)\n",
    "    sigma_inv_mat = np.linalg.inv(cov_mat.values)\n",
    "    one_vec = np.ones(len(tickers))\n",
    "    mu_minus_rf = mu_matrix() - rf * one_vec\n",
    "    top_mat = np.dot(sigma_inv_mat, mu_minus_rf)\n",
    "    bot_val = np.dot(np.transpose(one_vec), top_mat)\n",
    "    t_vec = top_mat / bot_val\n",
    "\n",
    "    bill_perc = 1 - t_vec.sum()\n",
    "    all_inv = tickers + ['T-Bills']\n",
    "\n",
    "    efficient_df = pd.DataFrame({'Ticker': all_inv, 'Weight': np.round(np.append(t_vec, bill_perc), 4)})\n",
    "\n",
    "    return efficient_df\n",
    "\n",
    "def e_portfolio_stats():\n",
    "    cov_mat = cov_matrix().astype(float)\n",
    "    sigma_inv_mat = np.linalg.inv(cov_mat.values)\n",
    "    one_vec = np.ones(len(tickers))\n",
    "    mu_minus_rf = mu_matrix() - rf * one_vec\n",
    "    top_mat = np.dot(sigma_inv_mat, mu_minus_rf)\n",
    "    bot_val = np.dot(np.transpose(one_vec), top_mat)\n",
    "    t_vec = top_mat / bot_val\n",
    "    \n",
    "    expected_return = np.dot(t_vec, mu_matrix())\n",
    "    standard_deviation = np.sqrt(np.dot(np.dot(t_vec, cov_matrix()), t_vec))\n",
    "\n",
    "    return [expected_return, standard_deviation]\n",
    "\n",
    "def print_e_port_stats():\n",
    "    e_port = e_portfolio_stats()\n",
    "    print('Expected Portfolio Return:', round(e_port[0],4))\n",
    "    print('Portfolio Return Standard Deviation:', round(e_port[1], 4))\n",
    "    print('Portfolio Return Variance:', round(e_port[1]**2, 4))"
   ]
  },
  {
   "cell_type": "markdown",
   "metadata": {},
   "source": [
    "# Risk Return Scatter Plot"
   ]
  },
  {
   "cell_type": "code",
   "execution_count": 543,
   "metadata": {},
   "outputs": [],
   "source": [
    "def rr_plot():\n",
    "    all_stats = stock_stats()\n",
    "    # Scatter plot\n",
    "    plt.scatter(all_stats['Standard_Deviation'], all_stats['Expected_Return'], label=tickers)\n",
    "\n",
    "    # Labeling the points with ticker names\n",
    "    for i, ticker in enumerate(tickers):\n",
    "        plt.annotate(ticker, (all_stats.iloc[i]['Standard_Deviation'], all_stats.iloc[i]['Expected_Return']))\n",
    "\n",
    "    portfolio_stats()\n",
    "    plt.scatter(port_stats[1], port_stats[0], color = 'red', label = 'Your Portfolio')\n",
    "    plt.annotate('Your Portfolio', (port_stats[1], port_stats[0]))\n",
    "\n",
    "    min_risk_port = min_risk_portfolio()\n",
    "    min_risk_port_stats = portfolio_stats(min_risk_port['Weight'])\n",
    "\n",
    "    plt.scatter(min_risk_port_stats[1], min_risk_port_stats[0], color = 'green', label = 'Min Risk')\n",
    "    plt.annotate('Min Risk', (min_risk_port_stats[1], min_risk_port_stats[0]))\n",
    "\n",
    "    \n",
    "    efficient_port = e_portfolio_stats()\n",
    "    plt.scatter(efficient_port[1], efficient_port[0], color = 'orange', label = 'Most Efficient')\n",
    "    plt.annotate('Most Efficient', (efficient_port[1], efficient_port[0]))\n",
    "\n",
    "\n",
    "    # Add labels and title\n",
    "    plt.xlabel('Standard Deviation')\n",
    "    plt.ylabel('Expected Return')\n",
    "    plt.title('Risk-Return Scatter Plot')\n",
    "\n",
    "    # Show legend\n",
    "    plt.legend()\n",
    "\n",
    "    # Show the plot\n",
    "    plt.show()"
   ]
  },
  {
   "cell_type": "markdown",
   "metadata": {},
   "source": [
    "# Information"
   ]
  },
  {
   "cell_type": "code",
   "execution_count": 571,
   "metadata": {},
   "outputs": [
    {
     "name": "stdout",
     "output_type": "stream",
     "text": [
      "[*********************100%%**********************]  1 of 1 completed\n",
      "[*********************100%%**********************]  1 of 1 completed\n",
      "[*********************100%%**********************]  1 of 1 completed\n",
      "[*********************100%%**********************]  1 of 1 completed\n"
     ]
    },
    {
     "data": {
      "text/html": [
       "<div>\n",
       "<style scoped>\n",
       "    .dataframe tbody tr th:only-of-type {\n",
       "        vertical-align: middle;\n",
       "    }\n",
       "\n",
       "    .dataframe tbody tr th {\n",
       "        vertical-align: top;\n",
       "    }\n",
       "\n",
       "    .dataframe thead th {\n",
       "        text-align: right;\n",
       "    }\n",
       "</style>\n",
       "<table border=\"1\" class=\"dataframe\">\n",
       "  <thead>\n",
       "    <tr style=\"text-align: right;\">\n",
       "      <th></th>\n",
       "      <th>Ticker</th>\n",
       "      <th>Expected_Return</th>\n",
       "      <th>Variance</th>\n",
       "      <th>Standard_Deviation</th>\n",
       "    </tr>\n",
       "  </thead>\n",
       "  <tbody>\n",
       "    <tr>\n",
       "      <th>0</th>\n",
       "      <td>MSFT</td>\n",
       "      <td>0.010459</td>\n",
       "      <td>0.006490</td>\n",
       "      <td>0.080561</td>\n",
       "    </tr>\n",
       "    <tr>\n",
       "      <th>1</th>\n",
       "      <td>AMD</td>\n",
       "      <td>0.024741</td>\n",
       "      <td>0.035523</td>\n",
       "      <td>0.188474</td>\n",
       "    </tr>\n",
       "    <tr>\n",
       "      <th>2</th>\n",
       "      <td>SPY</td>\n",
       "      <td>0.005266</td>\n",
       "      <td>0.001986</td>\n",
       "      <td>0.044566</td>\n",
       "    </tr>\n",
       "    <tr>\n",
       "      <th>3</th>\n",
       "      <td>NKE</td>\n",
       "      <td>0.013167</td>\n",
       "      <td>0.006088</td>\n",
       "      <td>0.078024</td>\n",
       "    </tr>\n",
       "  </tbody>\n",
       "</table>\n",
       "</div>"
      ],
      "text/plain": [
       "  Ticker  Expected_Return  Variance  Standard_Deviation\n",
       "0   MSFT         0.010459  0.006490            0.080561\n",
       "1    AMD         0.024741  0.035523            0.188474\n",
       "2    SPY         0.005266  0.001986            0.044566\n",
       "3    NKE         0.013167  0.006088            0.078024"
      ]
     },
     "execution_count": 571,
     "metadata": {},
     "output_type": "execute_result"
    }
   ],
   "source": [
    "tickers = ['MSFT', 'AMD', 'SPY', 'NKE']\n",
    "weights = [0.1518, 0.167, 0.129, 0.1588]\n",
    "stats = pd.DataFrame()\n",
    "port_stock_stat = {'tickers': [],'returns': []}\n",
    "port_stat = []\n",
    "apy = 0.02\n",
    "rf = (1 + apy) ** (1 / 12) - 1\n",
    "stock_stats()"
   ]
  },
  {
   "cell_type": "markdown",
   "metadata": {},
   "source": [
    "# Portfolio Frontier"
   ]
  },
  {
   "cell_type": "code",
   "execution_count": 549,
   "metadata": {},
   "outputs": [
    {
     "data": {
      "image/png": "[encoded data removed]",
      "text/plain": [
       "<Figure size 640x480 with 1 Axes>"
      ]
     },
     "metadata": {},
     "output_type": "display_data"
    }
   ],
   "source": [
    "rr_plot()\n"
   ]
  },
  {
   "cell_type": "markdown",
   "metadata": {},
   "source": [
    "# Your Portfolio"
   ]
  },
  {
   "cell_type": "code",
   "execution_count": 547,
   "metadata": {},
   "outputs": [
    {
     "name": "stdout",
     "output_type": "stream",
     "text": [
      "Your Portfolio:\n",
      "Expected Portfolio Return: 0.0085\n",
      "Portfolio Return Standard Deviation: 0.0482\n",
      "Portfolio Return Variance: 0.0023\n"
     ]
    },
    {
     "data": {
      "text/html": [
       "<div>\n",
       "<style scoped>\n",
       "    .dataframe tbody tr th:only-of-type {\n",
       "        vertical-align: middle;\n",
       "    }\n",
       "\n",
       "    .dataframe tbody tr th {\n",
       "        vertical-align: top;\n",
       "    }\n",
       "\n",
       "    .dataframe thead th {\n",
       "        text-align: right;\n",
       "    }\n",
       "</style>\n",
       "<table border=\"1\" class=\"dataframe\">\n",
       "  <thead>\n",
       "    <tr style=\"text-align: right;\">\n",
       "      <th></th>\n",
       "      <th>Ticker</th>\n",
       "      <th>Expected_Return</th>\n",
       "      <th>Variance</th>\n",
       "      <th>Standard_Deviation</th>\n",
       "    </tr>\n",
       "  </thead>\n",
       "  <tbody>\n",
       "    <tr>\n",
       "      <th>0</th>\n",
       "      <td>MSFT</td>\n",
       "      <td>0.010459</td>\n",
       "      <td>0.006490</td>\n",
       "      <td>0.080561</td>\n",
       "    </tr>\n",
       "    <tr>\n",
       "      <th>1</th>\n",
       "      <td>AMD</td>\n",
       "      <td>0.024741</td>\n",
       "      <td>0.035523</td>\n",
       "      <td>0.188474</td>\n",
       "    </tr>\n",
       "    <tr>\n",
       "      <th>2</th>\n",
       "      <td>SPY</td>\n",
       "      <td>0.005266</td>\n",
       "      <td>0.001986</td>\n",
       "      <td>0.044566</td>\n",
       "    </tr>\n",
       "    <tr>\n",
       "      <th>3</th>\n",
       "      <td>NKE</td>\n",
       "      <td>0.013167</td>\n",
       "      <td>0.006088</td>\n",
       "      <td>0.078024</td>\n",
       "    </tr>\n",
       "  </tbody>\n",
       "</table>\n",
       "</div>"
      ],
      "text/plain": [
       "  Ticker  Expected_Return  Variance  Standard_Deviation\n",
       "0   MSFT         0.010459  0.006490            0.080561\n",
       "1    AMD         0.024741  0.035523            0.188474\n",
       "2    SPY         0.005266  0.001986            0.044566\n",
       "3    NKE         0.013167  0.006088            0.078024"
      ]
     },
     "execution_count": 547,
     "metadata": {},
     "output_type": "execute_result"
    }
   ],
   "source": [
    "print('Your Portfolio:')\n",
    "print_portfolio_stats()\n",
    "stats"
   ]
  },
  {
   "cell_type": "markdown",
   "metadata": {},
   "source": [
    "# Min Risk Portfolio"
   ]
  },
  {
   "cell_type": "code",
   "execution_count": 555,
   "metadata": {},
   "outputs": [
    {
     "name": "stdout",
     "output_type": "stream",
     "text": [
      "Min Risk Portfolio:\n",
      "Expected Portfolio Return: 0.0037\n",
      "Portfolio Return Standard Deviation: 0.041\n",
      "Portfolio Return Variance: 0.0017\n"
     ]
    },
    {
     "data": {
      "text/html": [
       "<div>\n",
       "<style scoped>\n",
       "    .dataframe tbody tr th:only-of-type {\n",
       "        vertical-align: middle;\n",
       "    }\n",
       "\n",
       "    .dataframe tbody tr th {\n",
       "        vertical-align: top;\n",
       "    }\n",
       "\n",
       "    .dataframe thead th {\n",
       "        text-align: right;\n",
       "    }\n",
       "</style>\n",
       "<table border=\"1\" class=\"dataframe\">\n",
       "  <thead>\n",
       "    <tr style=\"text-align: right;\">\n",
       "      <th></th>\n",
       "      <th>Ticker</th>\n",
       "      <th>Weight</th>\n",
       "    </tr>\n",
       "  </thead>\n",
       "  <tbody>\n",
       "    <tr>\n",
       "      <th>0</th>\n",
       "      <td>MSFT</td>\n",
       "      <td>-0.004722</td>\n",
       "    </tr>\n",
       "    <tr>\n",
       "      <th>1</th>\n",
       "      <td>AMD</td>\n",
       "      <td>-0.101996</td>\n",
       "    </tr>\n",
       "    <tr>\n",
       "      <th>2</th>\n",
       "      <td>SPY</td>\n",
       "      <td>1.050053</td>\n",
       "    </tr>\n",
       "    <tr>\n",
       "      <th>3</th>\n",
       "      <td>NKE</td>\n",
       "      <td>0.056665</td>\n",
       "    </tr>\n",
       "  </tbody>\n",
       "</table>\n",
       "</div>"
      ],
      "text/plain": [
       "  Ticker    Weight\n",
       "0   MSFT -0.004722\n",
       "1    AMD -0.101996\n",
       "2    SPY  1.050053\n",
       "3    NKE  0.056665"
      ]
     },
     "execution_count": 555,
     "metadata": {},
     "output_type": "execute_result"
    }
   ],
   "source": [
    "min_risk_port = min_risk_portfolio()\n",
    "print('Min Risk Portfolio:')\n",
    "print_portfolio_stats(min_risk_port['Weight'])\n",
    "min_risk_port"
   ]
  },
  {
   "cell_type": "markdown",
   "metadata": {},
   "source": [
    "# Most Efficient Portfolio"
   ]
  },
  {
   "cell_type": "code",
   "execution_count": 569,
   "metadata": {},
   "outputs": [
    {
     "name": "stdout",
     "output_type": "stream",
     "text": [
      "Most Efficient Portfolio:\n",
      "Expected Portfolio Return: 0.0312\n",
      "Portfolio Return Standard Deviation: 0.1556\n",
      "Portfolio Return Variance: 0.0242\n"
     ]
    },
    {
     "data": {
      "text/html": [
       "<div>\n",
       "<style scoped>\n",
       "    .dataframe tbody tr th:only-of-type {\n",
       "        vertical-align: middle;\n",
       "    }\n",
       "\n",
       "    .dataframe tbody tr th {\n",
       "        vertical-align: top;\n",
       "    }\n",
       "\n",
       "    .dataframe thead th {\n",
       "        text-align: right;\n",
       "    }\n",
       "</style>\n",
       "<table border=\"1\" class=\"dataframe\">\n",
       "  <thead>\n",
       "    <tr style=\"text-align: right;\">\n",
       "      <th></th>\n",
       "      <th>Ticker</th>\n",
       "      <th>Weight</th>\n",
       "    </tr>\n",
       "  </thead>\n",
       "  <tbody>\n",
       "    <tr>\n",
       "      <th>0</th>\n",
       "      <td>MSFT</td>\n",
       "      <td>1.0035</td>\n",
       "    </tr>\n",
       "    <tr>\n",
       "      <th>1</th>\n",
       "      <td>AMD</td>\n",
       "      <td>0.4313</td>\n",
       "    </tr>\n",
       "    <tr>\n",
       "      <th>2</th>\n",
       "      <td>SPY</td>\n",
       "      <td>-1.9891</td>\n",
       "    </tr>\n",
       "    <tr>\n",
       "      <th>3</th>\n",
       "      <td>NKE</td>\n",
       "      <td>1.5543</td>\n",
       "    </tr>\n",
       "    <tr>\n",
       "      <th>4</th>\n",
       "      <td>T-Bills</td>\n",
       "      <td>-0.0000</td>\n",
       "    </tr>\n",
       "  </tbody>\n",
       "</table>\n",
       "</div>"
      ],
      "text/plain": [
       "    Ticker  Weight\n",
       "0     MSFT  1.0035\n",
       "1      AMD  0.4313\n",
       "2      SPY -1.9891\n",
       "3      NKE  1.5543\n",
       "4  T-Bills -0.0000"
      ]
     },
     "execution_count": 569,
     "metadata": {},
     "output_type": "execute_result"
    }
   ],
   "source": [
    "print('Most Efficient Portfolio:')\n",
    "print_e_port_stats()\n",
    "efficient_portfolio()"
   ]
  }
 ],
 "metadata": {
  "kernelspec": {
   "display_name": "Python 3",
   "language": "python",
   "name": "python3"
  },
  "language_info": {
   "codemirror_mode": {
    "name": "ipython",
    "version": 3
   },
   "file_extension": ".py",
   "mimetype": "text/x-python",
   "name": "python",
   "nbconvert_exporter": "python",
   "pygments_lexer": "ipython3",
   "version": "3.11.7"
  }
 },
 "nbformat": 4,
 "nbformat_minor": 2
}
